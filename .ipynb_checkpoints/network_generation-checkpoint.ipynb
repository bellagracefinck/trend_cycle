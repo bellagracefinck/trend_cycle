{
 "cells": [
  {
   "cell_type": "code",
   "execution_count": 1,
   "id": "8f218f6d",
   "metadata": {},
   "outputs": [],
   "source": [
    "import pandas as pd\n",
    "from io import StringIO\n",
    "from bs4 import BeautifulSoup as bs\n",
    "import requests\n",
    "import matplotlib.pyplot as plt\n",
    "import seaborn as sns\n",
    "import re\n",
    "import numpy as np\n",
    "from sklearn.feature_extraction.text import TfidfVectorizer\n",
    "from sklearn.linear_model import LogisticRegression\n",
    "from sklearn.metrics import accuracy_score, classification_report\n",
    "from sklearn.model_selection import train_test_split\n",
    "from sklearn.naive_bayes import GaussianNB, MultinomialNB, BernoulliNB\n",
    "from sklearn.metrics import accuracy_score, f1_score, roc_curve, auc\n",
    "from sklearn.feature_extraction.text import CountVectorizer, TfidfVectorizer\n",
    "from nltk.tokenize import word_tokenize, WhitespaceTokenizer, TweetTokenizer"
   ]
  },
  {
   "cell_type": "code",
   "execution_count": 9,
   "id": "3d69edd6",
   "metadata": {},
   "outputs": [
    {
     "data": {
      "text/html": [
       "<div>\n",
       "<style scoped>\n",
       "    .dataframe tbody tr th:only-of-type {\n",
       "        vertical-align: middle;\n",
       "    }\n",
       "\n",
       "    .dataframe tbody tr th {\n",
       "        vertical-align: top;\n",
       "    }\n",
       "\n",
       "    .dataframe thead th {\n",
       "        text-align: right;\n",
       "    }\n",
       "</style>\n",
       "<table border=\"1\" class=\"dataframe\">\n",
       "  <thead>\n",
       "    <tr style=\"text-align: right;\">\n",
       "      <th></th>\n",
       "      <th>designer</th>\n",
       "      <th>collections</th>\n",
       "      <th>first_season</th>\n",
       "      <th>consistency</th>\n",
       "      <th>prevalence</th>\n",
       "      <th>class</th>\n",
       "    </tr>\n",
       "  </thead>\n",
       "  <tbody>\n",
       "    <tr>\n",
       "      <th>0</th>\n",
       "      <td>comme-des-garcons</td>\n",
       "      <td>65</td>\n",
       "      <td>1991.0</td>\n",
       "      <td>0.984848</td>\n",
       "      <td>0.969464</td>\n",
       "      <td>5</td>\n",
       "    </tr>\n",
       "    <tr>\n",
       "      <th>1</th>\n",
       "      <td>versace</td>\n",
       "      <td>61</td>\n",
       "      <td>1991.0</td>\n",
       "      <td>0.924242</td>\n",
       "      <td>0.907849</td>\n",
       "      <td>4</td>\n",
       "    </tr>\n",
       "  </tbody>\n",
       "</table>\n",
       "</div>"
      ],
      "text/plain": [
       "            designer  collections  first_season  consistency  prevalence  \\\n",
       "0  comme-des-garcons           65        1991.0     0.984848    0.969464   \n",
       "1            versace           61        1991.0     0.924242    0.907849   \n",
       "\n",
       "   class  \n",
       "0      5  \n",
       "1      4  "
      ]
     },
     "execution_count": 9,
     "metadata": {},
     "output_type": "execute_result"
    }
   ],
   "source": [
    "designers = pd.read_csv('designers.csv').drop(columns = 'Unnamed: 0')\n",
    "designers.head(2)"
   ]
  },
  {
   "cell_type": "code",
   "execution_count": 10,
   "id": "73087569",
   "metadata": {},
   "outputs": [
    {
     "data": {
      "text/html": [
       "<div>\n",
       "<style scoped>\n",
       "    .dataframe tbody tr th:only-of-type {\n",
       "        vertical-align: middle;\n",
       "    }\n",
       "\n",
       "    .dataframe tbody tr th {\n",
       "        vertical-align: top;\n",
       "    }\n",
       "\n",
       "    .dataframe thead th {\n",
       "        text-align: right;\n",
       "    }\n",
       "</style>\n",
       "<table border=\"1\" class=\"dataframe\">\n",
       "  <thead>\n",
       "    <tr style=\"text-align: right;\">\n",
       "      <th></th>\n",
       "      <th>season</th>\n",
       "      <th>year</th>\n",
       "      <th>seasonyear</th>\n",
       "      <th>designer</th>\n",
       "      <th>text</th>\n",
       "      <th>id</th>\n",
       "      <th>preprocessed_sentences</th>\n",
       "      <th>consistency</th>\n",
       "      <th>prevalence</th>\n",
       "      <th>class</th>\n",
       "    </tr>\n",
       "  </thead>\n",
       "  <tbody>\n",
       "    <tr>\n",
       "      <th>0</th>\n",
       "      <td>spring</td>\n",
       "      <td>1990</td>\n",
       "      <td>1990.0</td>\n",
       "      <td>azzedine-alaia</td>\n",
       "      <td>An enfilade of stretchy knits in jewel tones w...</td>\n",
       "      <td>0</td>\n",
       "      <td>enfilad stretchi knit jewel tone effect showma...</td>\n",
       "      <td>0.235294</td>\n",
       "      <td>0.172794</td>\n",
       "      <td>2</td>\n",
       "    </tr>\n",
       "    <tr>\n",
       "      <th>1</th>\n",
       "      <td>spring</td>\n",
       "      <td>1990</td>\n",
       "      <td>1990.0</td>\n",
       "      <td>romeo-gigli</td>\n",
       "      <td>Romeo Gigli is having a moment. The designer’s...</td>\n",
       "      <td>1</td>\n",
       "      <td>moment design signatur cocoon shape folder stu...</td>\n",
       "      <td>0.014706</td>\n",
       "      <td>-0.985294</td>\n",
       "      <td>0</td>\n",
       "    </tr>\n",
       "  </tbody>\n",
       "</table>\n",
       "</div>"
      ],
      "text/plain": [
       "   season  year  seasonyear        designer  \\\n",
       "0  spring  1990      1990.0  azzedine-alaia   \n",
       "1  spring  1990      1990.0     romeo-gigli   \n",
       "\n",
       "                                                text  id  \\\n",
       "0  An enfilade of stretchy knits in jewel tones w...   0   \n",
       "1  Romeo Gigli is having a moment. The designer’s...   1   \n",
       "\n",
       "                              preprocessed_sentences  consistency  prevalence  \\\n",
       "0  enfilad stretchi knit jewel tone effect showma...     0.235294    0.172794   \n",
       "1  moment design signatur cocoon shape folder stu...     0.014706   -0.985294   \n",
       "\n",
       "   class  \n",
       "0      2  \n",
       "1      0  "
      ]
     },
     "execution_count": 10,
     "metadata": {},
     "output_type": "execute_result"
    }
   ],
   "source": [
    "collections = pd.read_csv('collections.csv').drop(columns = 'Unnamed: 0')\n",
    "collections.head(2)"
   ]
  },
  {
   "cell_type": "code",
   "execution_count": 11,
   "id": "57dd1ae9",
   "metadata": {},
   "outputs": [],
   "source": [
    "from sklearn.model_selection import train_test_split\n",
    "from sklearn.naive_bayes import GaussianNB, MultinomialNB, BernoulliNB\n",
    "from sklearn.metrics import accuracy_score, f1_score, roc_curve, auc\n",
    "from sklearn.feature_extraction.text import CountVectorizer, TfidfVectorizer\n",
    "from nltk.tokenize import word_tokenize, WhitespaceTokenizer, TweetTokenizer\n",
    "\n",
    "subset = collections[collections['seasonyear']>1990.1]\n",
    "\n",
    "X = subset['preprocessed_sentences']\n",
    "y = subset['season']\n",
    "\n",
    "X_train, X_test, y_train, y_test = train_test_split(X, y, stratify = y)"
   ]
  },
  {
   "cell_type": "code",
   "execution_count": 13,
   "id": "555dee56",
   "metadata": {},
   "outputs": [
    {
     "name": "stdout",
     "output_type": "stream",
     "text": [
      "Label encoded training labels shape: (10693,)\n",
      "Label encoded validation labels shape: (3565,)\n"
     ]
    }
   ],
   "source": [
    "from sklearn.preprocessing import LabelEncoder\n",
    "\n",
    "label_encoder = LabelEncoder()\n",
    "y_train_le = label_encoder.fit_transform(y_train)\n",
    "y_test_le = label_encoder.transform(y_test)\n",
    "\n",
    "print(f'Label encoded training labels shape: {y_train_le.shape}')\n",
    "print(f'Label encoded validation labels shape: {y_test_le.shape}')"
   ]
  },
  {
   "cell_type": "code",
   "execution_count": null,
   "id": "37dc1289",
   "metadata": {},
   "outputs": [],
   "source": [
    "tfidf = TfidfVectorizer(ngram_range=(1,2)).fit(X_train)\n",
    "X_transformed = tfidf.transform(X_train)"
   ]
  },
  {
   "cell_type": "code",
   "execution_count": null,
   "id": "07be68b9",
   "metadata": {},
   "outputs": [],
   "source": [
    "# Clustering the training sentences with K-means technique\n",
    "\n",
    "from sklearn.cluster import KMeans\n",
    "km = KMeans(n_clusters=60, init='k-means++', n_init=100)\n",
    "km.fit(X_transformed)"
   ]
  },
  {
   "cell_type": "code",
   "execution_count": null,
   "id": "105ead05",
   "metadata": {},
   "outputs": [],
   "source": [
    "zip(km.labels_, X_train)"
   ]
  },
  {
   "cell_type": "code",
   "execution_count": null,
   "id": "3d0a5815",
   "metadata": {},
   "outputs": [],
   "source": []
  }
 ],
 "metadata": {
  "kernelspec": {
   "display_name": "Python 3 (ipykernel)",
   "language": "python",
   "name": "python3"
  },
  "language_info": {
   "codemirror_mode": {
    "name": "ipython",
    "version": 3
   },
   "file_extension": ".py",
   "mimetype": "text/x-python",
   "name": "python",
   "nbconvert_exporter": "python",
   "pygments_lexer": "ipython3",
   "version": "3.11.5"
  }
 },
 "nbformat": 4,
 "nbformat_minor": 5
}
